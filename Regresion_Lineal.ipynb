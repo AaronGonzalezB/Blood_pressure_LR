{
 "cells": [
  {
   "cell_type": "markdown",
   "metadata": {},
   "source": [
    "### Algoritmo de Regresion Lineal\n",
    "\n",
    "El objetivo es encontrar una linea recta que mejor se ajuste a la totalidad de los datos.\n",
    "\n",
    "#### Funcion de costo o perdida: \n",
    "Mide el rendimiento de una aproximacion, en este caso de una Regresion Lineal.\n",
    "\n",
    "###### 1. Error Cuadratico Medio (ECM): \n",
    "Promedia todas las distancias entre los puntos reales y la aproximacion de la Regresion Lineal $ {y_i - \\dot{y_i}} $ donde $ y_i $ son los puntos reales y $ \\dot{y_i} $ los puntos de la aproximacion.\n",
    "\n",
    "$$ECM = \\frac{1}{N}\\sum\\limits_{i=1}^{N}{(y_i - \\dot{y_i})^2} $$\n",
    "\n",
    "En donde el termino cuadratico se aplica para evitar la cancelacion por signos.\n",
    "\n",
    "Dada la ecuacion de la recta de Regresion:\n",
    "\n",
    "$$ y = wx + b $$\n",
    "\n",
    "Reemplazando $ \\dot{y_i} $ por la ecuacion de la recta, podemos calcular $ w $ y $b$ usando el metodo del Gradiente Descendente:\n",
    "\n",
    "$$ECM = \\frac{1}{N}\\sum\\limits_{i=1}^{N}{(y_i - {w_i}x - b)^2} $$\n",
    "\n"
   ]
  },
  {
   "cell_type": "markdown",
   "metadata": {},
   "source": []
  }
 ],
 "metadata": {
  "kernelspec": {
   "display_name": "Python 3",
   "language": "python",
   "name": "python3"
  },
  "language_info": {
   "codemirror_mode": {
    "name": "ipython",
    "version": 3
   },
   "file_extension": ".py",
   "mimetype": "text/x-python",
   "name": "python",
   "nbconvert_exporter": "python",
   "pygments_lexer": "ipython3",
   "version": "3.7.6"
  }
 },
 "nbformat": 4,
 "nbformat_minor": 4
}
